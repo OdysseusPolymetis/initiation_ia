{
  "nbformat": 4,
  "nbformat_minor": 0,
  "metadata": {
    "colab": {
      "provenance": [],
      "gpuType": "T4",
      "authorship_tag": "ABX9TyM9EFw2oO6UPmdjsslqcf3M",
      "include_colab_link": true
    },
    "kernelspec": {
      "name": "python3",
      "display_name": "Python 3"
    },
    "language_info": {
      "name": "python"
    },
    "accelerator": "GPU"
  },
  "cells": [
    {
      "cell_type": "markdown",
      "metadata": {
        "id": "view-in-github",
        "colab_type": "text"
      },
      "source": [
        "<a href=\"https://colab.research.google.com/github/OdysseusPolymetis/initiation_ia/blob/main/video_generator.ipynb\" target=\"_parent\"><img src=\"https://colab.research.google.com/assets/colab-badge.svg\" alt=\"Open In Colab\"/></a>"
      ]
    },
    {
      "cell_type": "code",
      "execution_count": null,
      "metadata": {
        "id": "ShSX48jT4-z-"
      },
      "outputs": [],
      "source": [
        "!pip install -q diffusers transformers accelerate\n",
        "!pip install -q imageio imageio-ffmpeg opencv-python"
      ]
    },
    {
      "cell_type": "code",
      "source": [
        "import torch\n",
        "import numpy as np\n",
        "import cv2\n",
        "import imageio\n",
        "from google.colab import files\n",
        "from IPython.display import HTML, display\n",
        "import matplotlib.pyplot as plt\n",
        "import os\n",
        "from base64 import b64encode\n",
        "from diffusers import TextToVideoZeroPipeline"
      ],
      "metadata": {
        "id": "xrbGTG3f5A61"
      },
      "execution_count": null,
      "outputs": []
    },
    {
      "cell_type": "code",
      "source": [
        "device = \"cuda\" if torch.cuda.is_available() else \"cpu\"\n",
        "print(f\"Utilisation de: {device}\")"
      ],
      "metadata": {
        "colab": {
          "base_uri": "https://localhost:8080/"
        },
        "id": "GGkbGKFx5PMx",
        "outputId": "38bc423b-6025-48e6-8132-842ac0ecfe39"
      },
      "execution_count": null,
      "outputs": [
        {
          "output_type": "stream",
          "name": "stdout",
          "text": [
            "Utilisation de: cuda\n"
          ]
        }
      ]
    },
    {
      "cell_type": "code",
      "source": [
        "model_id = \"runwayml/stable-diffusion-v1-5\"\n",
        "pipe = TextToVideoZeroPipeline.from_pretrained(\n",
        "    model_id,\n",
        "    torch_dtype=torch.float16 if device == \"cuda\" else torch.float32\n",
        ").to(device)"
      ],
      "metadata": {
        "id": "b48JDP6k6OP7"
      },
      "execution_count": null,
      "outputs": []
    },
    {
      "cell_type": "code",
      "source": [
        "# Configuration standard plus longue\n",
        "standard_long = {\n",
        "    'video_length': 24,  # Vidéo 3x plus longue que le défaut\n",
        "    'motion_x': 12,\n",
        "    'motion_y': 12,\n",
        "    't0': 45,\n",
        "    't1': 48,\n",
        "    'fps': 8\n",
        "}\n",
        "\n",
        "# Configuration très longue (attention: peut nécessiter plus de mémoire GPU)\n",
        "tres_long = {\n",
        "    'video_length': 36,  # Vidéo 4x plus longue que le défaut\n",
        "    'motion_x': 12,\n",
        "    'motion_y': 12,\n",
        "    't0': 45,\n",
        "    't1': 48,\n",
        "    'fps': 40\n",
        "}\n",
        "\n",
        "# Configuration longue avec mouvement lent\n",
        "long_mouvement_lent = {\n",
        "    'video_length': 24,\n",
        "    'motion_x': 8,    # Mouvement plus léger\n",
        "    'motion_y': 8,\n",
        "    't0': 45,\n",
        "    't1': 48,\n",
        "    'fps': 6          # Lecture plus lente\n",
        "}\n",
        "\n",
        "# Configuration longue avec mouvement rapide\n",
        "long_mouvement_rapide = {\n",
        "    'video_length': 24,\n",
        "    'motion_x': 16,   # Mouvement plus prononcé\n",
        "    'motion_y': 16,\n",
        "    't0': 45,\n",
        "    't1': 48,\n",
        "    'fps': 10         # Lecture plus rapide\n",
        "}"
      ],
      "metadata": {
        "id": "jXGEHqF2AbtP"
      },
      "execution_count": null,
      "outputs": []
    },
    {
      "cell_type": "code",
      "source": [
        "def generer_video_longue(prompt,\n",
        "                       video_length=24,     # Vidéo plus longue (24 frames par défaut)\n",
        "                       motion_x=12,         # Force du mouvement horizontal\n",
        "                       motion_y=12,         # Force du mouvement vertical\n",
        "                       t0=45,               # Paramètre T\n",
        "                       t1=48,               # Paramètre T'\n",
        "                       num_inference_steps=50, # Étapes d'inférence\n",
        "                       fps=8,               # Images par seconde\n",
        "                       output_name=\"video_longue.mp4\"):\n",
        "\n",
        "    print(f\"Génération de vidéo longue pour: '{prompt}'\")\n",
        "    print(f\"Paramètres: video_length={video_length}, motion_x={motion_x}, motion_y={motion_y}, fps={fps}\")\n",
        "    print(\"Cela peut prendre quelques minutes...\")\n",
        "\n",
        "    # Génération de la vidéo avec les paramètres spécifiés\n",
        "    result = pipe(\n",
        "        prompt=prompt,\n",
        "        video_length=video_length,      # Nombre de frames augmenté\n",
        "        motion_field_strength_x=motion_x,\n",
        "        motion_field_strength_y=motion_y,\n",
        "        t0=t0,\n",
        "        t1=t1,\n",
        "        num_inference_steps=num_inference_steps\n",
        "    ).images\n",
        "\n",
        "    # Conversion et sauvegarde selon la documentation\n",
        "    result = [(r * 255).astype(\"uint8\") for r in result]\n",
        "    imageio.mimsave(output_name, result, fps=fps)\n",
        "\n",
        "    # Affichage de la vidéo dans le notebook\n",
        "    mp4 = open(output_name, 'rb').read()\n",
        "    data_url = f\"data:video/mp4;base64,{b64encode(mp4).decode()}\"\n",
        "    display(HTML(f\"\"\"\n",
        "    <video width=512 controls>\n",
        "        <source src=\"{data_url}\" type=\"video/mp4\">\n",
        "    </video>\n",
        "    \"\"\"))\n",
        "\n",
        "    # Lien de téléchargement\n",
        "    files.download(output_name)\n",
        "    print(f\"Vidéo générée avec {video_length} frames\")\n",
        "    print(f\"Durée: {video_length/fps:.2f} secondes à {fps} FPS\")\n",
        "    print(f\"Sauvegardée sous '{output_name}' et disponible au téléchargement\")\n"
      ],
      "metadata": {
        "id": "nMIstsdA6SYj"
      },
      "execution_count": null,
      "outputs": []
    },
    {
      "cell_type": "code",
      "source": [
        "prompt_litterature = \"Emmanuel Macron dansant le tango devant une foule de gens\""
      ],
      "metadata": {
        "id": "LnvDkvXP68mr"
      },
      "execution_count": null,
      "outputs": []
    },
    {
      "cell_type": "code",
      "source": [
        "generer_video_longue(prompt_litterature, **tres_long)"
      ],
      "metadata": {
        "id": "DKj81Upx76A2"
      },
      "execution_count": null,
      "outputs": []
    },
    {
      "cell_type": "code",
      "source": [],
      "metadata": {
        "id": "o6jLKUnK9y21"
      },
      "execution_count": null,
      "outputs": []
    }
  ]
}